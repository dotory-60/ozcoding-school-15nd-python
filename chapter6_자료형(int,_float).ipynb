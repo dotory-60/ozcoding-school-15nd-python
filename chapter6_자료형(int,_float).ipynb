{
  "nbformat": 4,
  "nbformat_minor": 0,
  "metadata": {
    "colab": {
      "provenance": [],
      "authorship_tag": "ABX9TyPYqPnjq0a2Q/hxudhL7m63",
      "include_colab_link": true
    },
    "kernelspec": {
      "name": "python3",
      "display_name": "Python 3"
    },
    "language_info": {
      "name": "python"
    }
  },
  "cells": [
    {
      "cell_type": "markdown",
      "metadata": {
        "id": "view-in-github",
        "colab_type": "text"
      },
      "source": [
        "<a href=\"https://colab.research.google.com/github/dotory-60/ozcoding-school-15nd-python/blob/main/chapter6_%EC%9E%90%EB%A3%8C%ED%98%95(int%2C_float).ipynb\" target=\"_parent\"><img src=\"https://colab.research.google.com/assets/colab-badge.svg\" alt=\"Open In Colab\"/></a>"
      ]
    },
    {
      "cell_type": "code",
      "execution_count": null,
      "metadata": {
        "id": "gjIVZcG1ReoK"
      },
      "outputs": [],
      "source": [
        "# @title chapter5 복습\n",
        "\n",
        "# 변수 : 하나의 값을 저장할 수 있는 공간을 생성하는 것\n",
        "# 변수명을 만들 때 컨벤션\n",
        "# 변수를 표현하는 방법 : 스네이크, 카멜"
      ]
    },
    {
      "cell_type": "code",
      "source": [
        "# @title 자료형의 종류\n",
        "\n",
        "# int(integer) : 정수 / 1, 2, 3, -1, -2, -3\n",
        "# float(float) : 실수 / 1.2, 4.0, -1.2, -4.0\n",
        "# str(string) : 문자\n",
        "# bool(bool, boolean) : 참 또는 거짓, true or false, 1 or 0\n",
        "# list\n",
        "# tuple\n",
        "# dict\n",
        "# set\n",
        "\n",
        "# 우리가 mbti로 사람을 구별하듯이 컴퓨터는 자료형으로 데이터를 구분한다."
      ],
      "metadata": {
        "id": "5IKWK9YsSWkj"
      },
      "execution_count": null,
      "outputs": []
    },
    {
      "cell_type": "code",
      "source": [
        "import sys\n",
        "\n",
        "# 정수와 실수를 더하면 자동 형 변환(type promotion)이 일어난다.\n",
        "# 강사님 say 실수가 더 크기 때문에 결과값이 실수를 향해 간다..?\n",
        "9.0 + 2\n",
        "\n",
        "# 강사님이 말하는 \"크다\"는 메모리 크기?\n",
        "\n",
        "# 검색결과\n",
        "# 자동 형 변환이 일어나는 이유는 정밀도(precision)와 표현 범위를 기준으로 결정됨.\n",
        "# 실수는 정수보다 더 넓은 표현 범위를 가지며, 소수점 이하까지 다룰 수 있기 때문에 정수 값을 실수로 바꾸는 것이 정보 손실이 적음.\n",
        "# 따라서, 정수와 실수의 연산은 정밀도 손실을 최소화하기 위해 실수로 출력. 단지, 메모리 크기의 문제가 아님.\n",
        "# (물론 같은 값일 경우 실수의 메모리 크기가 큼)\n",
        "\n",
        "a = 10\n",
        "b = 10.0\n",
        "\n",
        "print(sys.getsizeof(a)) # 28\n",
        "print(sys.getsizeof(b)) # 24\n",
        "\n",
        "# 테스트해봤는데 실수가 더 작음.. 왜..?\n",
        "# python3 int는 가변 길이 구조(PyLongObject)\n",
        "# 작은 정수라도 (객체 헤더) + (값 저장 공간)이 포함되어 기본적으로 약 28바이트를 사용\n",
        "# 큰 정수는 값이 커질수록 더 많은 메모리를 차지\n",
        "# 반면, 실수는 고정 64비트 구조(PyFloatObject)를 사용\n",
        "# (객체 헤더) + (64비트 값 저장)으로 약 24바이트를 사용\n",
        "# 즉, 실수는 값이 커져도 항상 8바이트만 값 저장\n",
        "\n",
        "c = 10000000000000000000000\n",
        "d = 10000000000000000000000.0\n",
        "\n",
        "print(sys.getsizeof(c)) # 36\n",
        "print(sys.getsizeof(d)) # 24"
      ],
      "metadata": {
        "colab": {
          "base_uri": "https://localhost:8080/"
        },
        "id": "t_1qVQTDSyms",
        "outputId": "57e9d4e1-b051-4279-8bb4-1b9462b2a9e2"
      },
      "execution_count": null,
      "outputs": [
        {
          "output_type": "stream",
          "name": "stdout",
          "text": [
            "28\n",
            "24\n",
            "36\n",
            "24\n"
          ]
        }
      ]
    },
    {
      "cell_type": "code",
      "source": [
        "# box_num에 숫자만 넣자는 약속 그런데 누군가 한글 표기법으로 숫자를 넣음\n",
        "# type은 매우 중요함 문제가 발생할 수도 있기 때문\n",
        "\n",
        "box_num = \"하나\"\n",
        "box_num += 1\n",
        "print(box_num)"
      ],
      "metadata": {
        "colab": {
          "base_uri": "https://localhost:8080/",
          "height": 198
        },
        "id": "DtHsdFgnXHfs",
        "outputId": "f325ca7d-110b-4fb3-edde-cad43b185485"
      },
      "execution_count": null,
      "outputs": [
        {
          "output_type": "error",
          "ename": "TypeError",
          "evalue": "can only concatenate str (not \"int\") to str",
          "traceback": [
            "\u001b[0;31m---------------------------------------------------------------------------\u001b[0m",
            "\u001b[0;31mTypeError\u001b[0m                                 Traceback (most recent call last)",
            "\u001b[0;32m/tmp/ipython-input-946328547.py\u001b[0m in \u001b[0;36m<cell line: 0>\u001b[0;34m()\u001b[0m\n\u001b[1;32m      2\u001b[0m \u001b[0;34m\u001b[0m\u001b[0m\n\u001b[1;32m      3\u001b[0m \u001b[0mbox_num\u001b[0m \u001b[0;34m=\u001b[0m \u001b[0;34m\"하나\"\u001b[0m\u001b[0;34m\u001b[0m\u001b[0;34m\u001b[0m\u001b[0m\n\u001b[0;32m----> 4\u001b[0;31m \u001b[0mbox_num\u001b[0m \u001b[0;34m+=\u001b[0m \u001b[0;36m1\u001b[0m\u001b[0;34m\u001b[0m\u001b[0;34m\u001b[0m\u001b[0m\n\u001b[0m\u001b[1;32m      5\u001b[0m \u001b[0mprint\u001b[0m\u001b[0;34m(\u001b[0m\u001b[0mbox_num\u001b[0m\u001b[0;34m)\u001b[0m\u001b[0;34m\u001b[0m\u001b[0;34m\u001b[0m\u001b[0m\n",
            "\u001b[0;31mTypeError\u001b[0m: can only concatenate str (not \"int\") to str"
          ]
        }
      ]
    },
    {
      "cell_type": "code",
      "source": [
        "type(box_num)"
      ],
      "metadata": {
        "colab": {
          "base_uri": "https://localhost:8080/"
        },
        "id": "7eUTzl6iX8zM",
        "outputId": "c570bfec-e616-4b52-caf2-dbfda6b93f04"
      },
      "execution_count": null,
      "outputs": [
        {
          "output_type": "execute_result",
          "data": {
            "text/plain": [
              "str"
            ]
          },
          "metadata": {},
          "execution_count": 16
        }
      ]
    },
    {
      "cell_type": "code",
      "source": [
        "type(1)"
      ],
      "metadata": {
        "colab": {
          "base_uri": "https://localhost:8080/"
        },
        "id": "s7sImpouYDR_",
        "outputId": "fc041168-432c-4009-f0a6-3d34fe6cf5b0"
      },
      "execution_count": null,
      "outputs": [
        {
          "output_type": "execute_result",
          "data": {
            "text/plain": [
              "int"
            ]
          },
          "metadata": {},
          "execution_count": 18
        }
      ]
    },
    {
      "cell_type": "code",
      "source": [
        "type(1.2)"
      ],
      "metadata": {
        "colab": {
          "base_uri": "https://localhost:8080/"
        },
        "id": "oPcvW92XYETz",
        "outputId": "bffa1cb1-8d97-46ae-c1e9-2d961c079a2d"
      },
      "execution_count": null,
      "outputs": [
        {
          "output_type": "execute_result",
          "data": {
            "text/plain": [
              "float"
            ]
          },
          "metadata": {},
          "execution_count": 20
        }
      ]
    },
    {
      "cell_type": "code",
      "source": [
        "4 / 2"
      ],
      "metadata": {
        "colab": {
          "base_uri": "https://localhost:8080/"
        },
        "id": "YIPJ7LLdYM51",
        "outputId": "1a198462-b2b6-4206-9636-fc5e81dc695f"
      },
      "execution_count": null,
      "outputs": [
        {
          "output_type": "execute_result",
          "data": {
            "text/plain": [
              "2.0"
            ]
          },
          "metadata": {},
          "execution_count": 22
        }
      ]
    },
    {
      "cell_type": "code",
      "source": [
        "# 형변환\n",
        "print(float(5))\n",
        "print(int(5.0))\n",
        "print(\"5\", type(\"5\"))"
      ],
      "metadata": {
        "colab": {
          "base_uri": "https://localhost:8080/"
        },
        "id": "41R2Fv2SYdsy",
        "outputId": "54421a24-d2f6-4ba7-ee5b-b5fcb670dd23"
      },
      "execution_count": null,
      "outputs": [
        {
          "output_type": "stream",
          "name": "stdout",
          "text": [
            "5.0\n",
            "5\n",
            "5 <class 'str'>\n"
          ]
        }
      ]
    },
    {
      "cell_type": "code",
      "source": [
        "나이 = 10\n",
        "type(나이)\n",
        "print(dir(나이))"
      ],
      "metadata": {
        "colab": {
          "base_uri": "https://localhost:8080/"
        },
        "id": "l9JVEL-mZRIT",
        "outputId": "d02231eb-ee29-4613-860c-872aeb44ffe6"
      },
      "execution_count": null,
      "outputs": [
        {
          "output_type": "stream",
          "name": "stdout",
          "text": [
            "['__abs__', '__add__', '__and__', '__bool__', '__ceil__', '__class__', '__delattr__', '__dir__', '__divmod__', '__doc__', '__eq__', '__float__', '__floor__', '__floordiv__', '__format__', '__ge__', '__getattribute__', '__getnewargs__', '__getstate__', '__gt__', '__hash__', '__index__', '__init__', '__init_subclass__', '__int__', '__invert__', '__le__', '__lshift__', '__lt__', '__mod__', '__mul__', '__ne__', '__neg__', '__new__', '__or__', '__pos__', '__pow__', '__radd__', '__rand__', '__rdivmod__', '__reduce__', '__reduce_ex__', '__repr__', '__rfloordiv__', '__rlshift__', '__rmod__', '__rmul__', '__ror__', '__round__', '__rpow__', '__rrshift__', '__rshift__', '__rsub__', '__rtruediv__', '__rxor__', '__setattr__', '__sizeof__', '__str__', '__sub__', '__subclasshook__', '__truediv__', '__trunc__', '__xor__', 'as_integer_ratio', 'bit_count', 'bit_length', 'conjugate', 'denominator', 'from_bytes', 'imag', 'is_integer', 'numerator', 'real', 'to_bytes']\n"
          ]
        }
      ]
    },
    {
      "cell_type": "code",
      "source": [
        "print(나이.bit_length())\n",
        "print(bin(나이)) # 비트로 변환"
      ],
      "metadata": {
        "colab": {
          "base_uri": "https://localhost:8080/"
        },
        "id": "DaueVQ1BZowK",
        "outputId": "b710f946-4a6e-4a37-d5ee-b0b6511c65ab"
      },
      "execution_count": null,
      "outputs": [
        {
          "output_type": "stream",
          "name": "stdout",
          "text": [
            "4\n",
            "0b1010\n"
          ]
        }
      ]
    },
    {
      "cell_type": "code",
      "source": [
        "# 메소드, 내장 함수, 함수\n",
        "# 이게 무엇인지 글로 작성하면 좋을 것\n",
        "# 배달의 민족 부트캠프에서도 기본적인 것을 깊이 공부한다.\n",
        "# 지금 빨리 문제를 푸는게 중요한게 아니다."
      ],
      "metadata": {
        "id": "_cJlOe0uZyS0"
      },
      "execution_count": null,
      "outputs": []
    }
  ]
}