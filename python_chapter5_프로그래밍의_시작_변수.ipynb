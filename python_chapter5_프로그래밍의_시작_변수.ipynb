{
  "nbformat": 4,
  "nbformat_minor": 0,
  "metadata": {
    "colab": {
      "provenance": [],
      "authorship_tag": "ABX9TyMT9UvigOYx8A0ixM/Qc9vx",
      "include_colab_link": true
    },
    "kernelspec": {
      "name": "python3",
      "display_name": "Python 3"
    },
    "language_info": {
      "name": "python"
    }
  },
  "cells": [
    {
      "cell_type": "markdown",
      "metadata": {
        "id": "view-in-github",
        "colab_type": "text"
      },
      "source": [
        "<a href=\"https://colab.research.google.com/github/dotory-60/ozcoding-school-15nd-python/blob/main/python_chapter5_%ED%94%84%EB%A1%9C%EA%B7%B8%EB%9E%98%EB%B0%8D%EC%9D%98_%EC%8B%9C%EC%9E%91_%EB%B3%80%EC%88%98.ipynb\" target=\"_parent\"><img src=\"https://colab.research.google.com/assets/colab-badge.svg\" alt=\"Open In Colab\"/></a>"
      ]
    },
    {
      "cell_type": "markdown",
      "source": [
        "더하기 : +\n",
        "\n",
        "빼기 : -\n",
        "\n",
        "곱하기 : *\n",
        "\n",
        "/ : 나누기\n",
        "\n",
        "// : 나누기에서 몫 반환\n",
        "\n",
        "% : 나누기에서 나머지 반환\n",
        "\n",
        "거듭제곱 : **\n",
        "\n",
        "divmod : 몫과 나머지를 동시에 구해줌\n",
        "\n",
        "() : 수학에서 사용되는 괄호와 동일한 기능, 괄호 안에 있는 것을 먼저 계산\n",
        "\n",
        "사칙연산 순서 : 괄호 > 곱셈, 나눗셈 > 덧셈, 뺄셈"
      ],
      "metadata": {
        "id": "OtJaAx6pDAGV"
      }
    },
    {
      "cell_type": "code",
      "source": [
        "## 아아 : 5000원 / 아샷추 : 6500원\n",
        "## 아아 2잔 / 아샷추 3잔\n",
        "\n",
        "(5000 * 2) + (6500 * 3)"
      ],
      "metadata": {
        "colab": {
          "base_uri": "https://localhost:8080/"
        },
        "id": "kvFlBv3ACOpE",
        "outputId": "e34f06ce-6d0c-4019-ad02-6453db489708"
      },
      "execution_count": null,
      "outputs": [
        {
          "output_type": "execute_result",
          "data": {
            "text/plain": [
              "29500"
            ]
          },
          "metadata": {},
          "execution_count": 4
        }
      ]
    },
    {
      "cell_type": "code",
      "source": [
        "# 어제 아아 2잔이랑 아샷추 3잔 결제한 금액이 얼마였지?\n",
        "\n",
        "(5000 * 2) + (6500 * 3)"
      ],
      "metadata": {
        "colab": {
          "base_uri": "https://localhost:8080/"
        },
        "id": "pb1THofACy-3",
        "outputId": "f934124d-92c0-4c54-dbb2-1052c0d8da6e"
      },
      "execution_count": null,
      "outputs": [
        {
          "output_type": "execute_result",
          "data": {
            "text/plain": [
              "29500"
            ]
          },
          "metadata": {},
          "execution_count": 5
        }
      ]
    },
    {
      "cell_type": "code",
      "source": [
        "# 미안한데 아아 결제한 금액이 얼마였지?\n",
        "\n",
        "(5000 * 2) + (6500 * 3)"
      ],
      "metadata": {
        "colab": {
          "base_uri": "https://localhost:8080/"
        },
        "id": "LAf4w4ugC6N8",
        "outputId": "521fe12a-2d99-4c44-cf9a-5edf7d1fe6c8"
      },
      "execution_count": null,
      "outputs": [
        {
          "output_type": "execute_result",
          "data": {
            "text/plain": [
              "29500"
            ]
          },
          "metadata": {},
          "execution_count": 10
        }
      ]
    },
    {
      "cell_type": "markdown",
      "source": [
        "계산된 값이 다 날아가는 문제가 발생함. 어떻게 해결?"
      ],
      "metadata": {
        "id": "d_oWsCxPDaAp"
      }
    },
    {
      "cell_type": "code",
      "source": [
        "### 변수란? (기본, 근본, 코어)\n",
        "### 변수를 사용하는 순간부터 개발자.. 나는 개발자..\n",
        "\n",
        "### 하나의 변수에 하나의 값을 넣을 때\n",
        "### 변수이름 = 값\n",
        "\n",
        "### 두개의 변수에 하나의 값을 각각 넣을 때\n",
        "### 변수이름1, 변수이름2 = 값1, 값2\n",
        "\n",
        "num = 1\n",
        "print(num)\n",
        "\n",
        "num_1, num_2 = 1, 2\n",
        "print(num_1, num_2)"
      ],
      "metadata": {
        "colab": {
          "base_uri": "https://localhost:8080/"
        },
        "id": "B2AJKMQdDZDv",
        "outputId": "ce846e88-f5d5-4a9a-fcb2-2ccb111dfbcf"
      },
      "execution_count": null,
      "outputs": [
        {
          "output_type": "stream",
          "name": "stdout",
          "text": [
            "1\n",
            "1 2\n"
          ]
        }
      ]
    },
    {
      "cell_type": "code",
      "source": [
        "### 1부터 5까지의 숫자를 더하는 문제를 풀어보겠습니다.\n",
        "### 단, 다음 숫자를 더하기 위해서 매번 새로운 줄에서 시작해야하는 조건이 있습니다.\n",
        "\n",
        "### 변수를 사용하지 않을 때\n",
        "### 이전에 계산된 결과를 저장할 수 있는 방법이 없음\n",
        "\n",
        "1 + 2\n",
        "1 + 2 + 3\n",
        "1 + 2 + 3 + 4\n",
        "1 + 2 + 3 + 4 + 5\n",
        "\n",
        "print(1 + 2 + 3 + 4 + 5)\n",
        "\n",
        "### 변수를 사용할 때\n",
        "### 이전에 계산된 결과를 저장해서 사용할 수 있음\n",
        "\n",
        "sum = 1 + 2\n",
        "sum = sum + 3\n",
        "sum = sum + 4\n",
        "sum = sum + 5\n",
        "\n",
        "print(sum)"
      ],
      "metadata": {
        "colab": {
          "base_uri": "https://localhost:8080/"
        },
        "id": "T6yv3JiTEbam",
        "outputId": "569e01d8-66b6-4886-f5ba-8d488dd0a455"
      },
      "execution_count": null,
      "outputs": [
        {
          "output_type": "stream",
          "name": "stdout",
          "text": [
            "15\n",
            "15\n"
          ]
        }
      ]
    },
    {
      "cell_type": "code",
      "source": [
        "### Tip. 현업, 전문성이 있는 단어를 사용해야 직무가 높은 개발자와 소통이 원활하다.\n",
        "### 변수에 값을 넣는 것 == 할당(assignment)\n",
        "### \"=\" : 할당 연산자\n",
        "### +, -, *, /, %, ** : 산술 연산자\n",
        "\n",
        "### 할당 연산자와 산술 연산자를 함께 사용이 가능함\n",
        "### Ex) +=, -=, *=, =+\n",
        "\n",
        "sum2 = 1 + 2\n",
        "sum2 += 3\n",
        "sum2 += 4\n",
        "sum2 += 5\n",
        "print(sum2)"
      ],
      "metadata": {
        "colab": {
          "base_uri": "https://localhost:8080/"
        },
        "id": "YgUYsukTEuUA",
        "outputId": "d01d1cbf-e29f-4a43-9de6-ced9f12dd9a3"
      },
      "execution_count": null,
      "outputs": [
        {
          "output_type": "stream",
          "name": "stdout",
          "text": [
            "15\n"
          ]
        }
      ]
    },
    {
      "cell_type": "code",
      "source": [
        "### 주의점 : 선언되지 않은 변수를 사용할 경우 에러 발생\n",
        "\n",
        "### sum3은 정의되지 않은 상태. 따라서, 에러 발생\n",
        "### sum3 += 1"
      ],
      "metadata": {
        "id": "-q8C5ZTUGhiD"
      },
      "execution_count": null,
      "outputs": []
    },
    {
      "cell_type": "code",
      "source": [
        "### 변수에 어떤 값도 넣고 싶지 않고 선언하는 방법\n",
        "\n",
        "nothing = None\n",
        "print(None)"
      ],
      "metadata": {
        "colab": {
          "base_uri": "https://localhost:8080/"
        },
        "id": "wYlPVv8GGwUP",
        "outputId": "61ce5675-1600-4ce7-d6c5-3b02ac331409"
      },
      "execution_count": null,
      "outputs": [
        {
          "output_type": "stream",
          "name": "stdout",
          "text": [
            "None\n"
          ]
        }
      ]
    },
    {
      "cell_type": "code",
      "source": [
        "### 변수 명명 규칙\n",
        "### 영문, 숫자\n",
        "### 대소문자 구분\n",
        "### 첫 글자는 대문자로 쓰는 것을 지향\n",
        "### 문자 혹은 _로 시작\n",
        "### 특수 문자 사용 불가 (+, -, *, /, $, @, &, % 등)\n",
        "### 파이썬의 키워드는 사용 불가능\n",
        "\n",
        "### 누군가는 변수명을 지을 때 1달이라는 시간을 사용한다.\n",
        "### 신입 개발자가 변수명에 대해 고민했다는 흔적은 심사에 긍정적일 수 있다.\n",
        "\n",
        "# 대소문자를 구분하는 변수\n",
        "BIG = \"크다\"\n",
        "big = \"작다\"\n",
        "\n",
        "print(BIG, big)"
      ],
      "metadata": {
        "colab": {
          "base_uri": "https://localhost:8080/"
        },
        "id": "GC8yY1y9HM4m",
        "outputId": "d7dc42d9-5e22-4148-f6ec-f6ea69451f8e"
      },
      "execution_count": null,
      "outputs": [
        {
          "output_type": "stream",
          "name": "stdout",
          "text": [
            "크다 작다\n"
          ]
        }
      ]
    },
    {
      "cell_type": "code",
      "source": [
        "### 스네이크 케이스 (snake case)\n",
        "### Ex) snake_case\n",
        "\n",
        "### 카멜 케이스 (camel case)\n",
        "### Ex) camelCase"
      ],
      "metadata": {
        "id": "2O6hk-ygH9-m"
      },
      "execution_count": null,
      "outputs": []
    },
    {
      "cell_type": "code",
      "source": [
        "### 우리는 변수를 만들 때 스네이크케이스로 진행합니다. 그리고 언더바는 2개를 적용시켜주세요.\n",
        "### 개발에 관련된 여러 조건을 명시하는 것들을 코드 컨벤션이라고 합니다.\n",
        "\n",
        "box__shose = \"스니커즈\"\n",
        "box__hat = \"슈프림 문자\"\n",
        "\n",
        "print(box__shose, box__hat)"
      ],
      "metadata": {
        "colab": {
          "base_uri": "https://localhost:8080/"
        },
        "id": "QvkTcEB_IPvd",
        "outputId": "aded5e9b-e34b-488a-d0cb-901484b21d0d"
      },
      "execution_count": null,
      "outputs": [
        {
          "output_type": "stream",
          "name": "stdout",
          "text": [
            "스니커즈 슈프림 문자\n"
          ]
        }
      ]
    },
    {
      "cell_type": "code",
      "source": [
        "### 지금까지 배운 내용으로 프로그램을 만들 수 있다.\n",
        "### print() 포메팅 3가지\n",
        "### f-string : f'{변수명}'\n",
        "\n",
        "me = 'jiwon'\n",
        "print(f'{me}만 빼고 고양이가 다 있어.')"
      ],
      "metadata": {
        "colab": {
          "base_uri": "https://localhost:8080/"
        },
        "id": "c8_S75J2Iix-",
        "outputId": "058ef656-60cd-4c24-8a76-ada2fb9563ba"
      },
      "execution_count": null,
      "outputs": [
        {
          "output_type": "stream",
          "name": "stdout",
          "text": [
            "jiwon만 빼고 고양이가 다 있어.\n",
            "{me}만 빼고\n"
          ]
        }
      ]
    },
    {
      "cell_type": "code",
      "source": [
        "# @title 붕어빵 문제\n",
        "\n",
        "### 붕어빵 철이 돌아왔죠\n",
        "### 붕어빵(팥) : 2000원, 붕어빵(슈크림) : 2500원, 붕어빵(잡채) : 3000원\n",
        "### 무인 주문기계를 만들어주세요.\n",
        "### 붕어빵(잡채) 3개, 붕어빵(슈크림) 2개를 주문하면\n",
        "### \"주문이 완료되었습니다. 붕어빵(슈크림) 2개, 붕어빵(잡채) 3개 총 5개 결제 금액은 14000원입니다.\"\n",
        "### 이 출력되도록 코드를 작성해주세요.\n",
        "### 변수를 만들 때 스네이크 케이스에 언더바는 2개 / print()문의 포메팅 f-string\n",
        "\n",
        "### 한국어는 원래 안 되지만..\n",
        "\n",
        "boongabbang__pat__price = 2000\n",
        "boongabbang__custard__price = 2500\n",
        "boongabbang__japchae__price = 3000\n",
        "\n",
        "boongabbang__pat__count = 0\n",
        "boongabbang__custard__count = 2\n",
        "boongabbang__japchae__count = 3\n",
        "\n",
        "total__count = boongabbang__pat__count + boongabbang__custard__count + boongabbang__japchae__count\n",
        "total__payment__amount = (boongabbang__pat__price * boongabbang__pat__count) + (boongabbang__custard__price * boongabbang__custard__count) + (boongabbang__japchae__price * boongabbang__japchae__count)\n",
        "\n",
        "print(f'주문이 완료되었습니다. 붕어빵(슈크림) {boongabbang__custard__count}개, 붕어빵(잡채) {boongabbang__japchae__count}개 총 {total__count}개 결제 금액은 {total__payment__amount}원입니다.`')"
      ],
      "metadata": {
        "colab": {
          "base_uri": "https://localhost:8080/"
        },
        "id": "I2gKkDlhMTUY",
        "outputId": "1a72abe7-e036-4df3-8019-06b3594b3c65"
      },
      "execution_count": null,
      "outputs": [
        {
          "output_type": "stream",
          "name": "stdout",
          "text": [
            "주문이 완료되었습니다. 붕어빵(슈크림) 2개, 붕어빵(잡채) 3개 총 5개 결제 금액은 14000원입니다.`\n"
          ]
        }
      ]
    },
    {
      "cell_type": "code",
      "source": [
        "### 강사님의 문제풀이 코드\n",
        "\n",
        "fish__p, fish__s, fish__j = \"붕어빵(팥)\", \"붕어빵(슈크림)\", \"붕어빵(잡채)\"\n",
        "finsh__p__sell, fish__s__sell, fish__j__sell = 2000, 2500, 3000\n",
        "order__s, order__j = 2, 3\n",
        "\n",
        "# 붕어빵 계산값\n",
        "order__s__pay, order__j__pay = fish__s__sell * 2, fish__j__sell * 3\n",
        "\n",
        "# 구매 총 개수\n",
        "total = order__s + order__j\n",
        "\n",
        "# 구매 총 금액\n",
        "total__pay = order__s__pay + order__j__pay\n",
        "\n",
        "# 출력\n",
        "print(f'주문이 완료되었습니다. {fish__s} {order_s}개, {fish__j} {order__j}개 총 {total}개 결제 금액은 {total__pay}원 입니다.')"
      ],
      "metadata": {
        "colab": {
          "base_uri": "https://localhost:8080/"
        },
        "id": "romJF1E8NHzD",
        "outputId": "1cb2a59b-0060-4165-ffc2-41301d25a5cf"
      },
      "execution_count": null,
      "outputs": [
        {
          "output_type": "stream",
          "name": "stdout",
          "text": [
            "주문이 완료되었습니다. 붕어빵(슈크림) 2개, 붕어빵(잡채) 3개 총 5개 결제 금액은 14000원 입니다.\n"
          ]
        }
      ]
    },
    {
      "cell_type": "code",
      "source": [
        "### 코드 리뷰?\n",
        "\n",
        "# 나는 한 줄에 한 개의 변수만 할당한 반면, 강사님은 한 줄에 여러 개의 변수를 할당하여 비교적 코드 길이가 짧아졌다.\n",
        "# 변수 또한 알아볼 수 있으면서 짧게 만드셨다."
      ],
      "metadata": {
        "id": "CMUBOCYVOfOq"
      },
      "execution_count": null,
      "outputs": []
    }
  ]
}