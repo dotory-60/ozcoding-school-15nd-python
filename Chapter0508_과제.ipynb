{
  "cells": [
    {
      "cell_type": "markdown",
      "metadata": {
        "id": "view-in-github",
        "colab_type": "text"
      },
      "source": [
        "<a href=\"https://colab.research.google.com/github/dotory-60/ozcoding-school-15nd-python/blob/main/Chapter0508_%E1%84%80%E1%85%AA%E1%84%8C%E1%85%A6.ipynb\" target=\"_parent\"><img src=\"https://colab.research.google.com/assets/colab-badge.svg\" alt=\"Open In Colab\"/></a>"
      ]
    },
    {
      "cell_type": "markdown",
      "metadata": {
        "id": "WXEwMsfUct7U"
      },
      "source": [
        "안녕하세요.<br><br>\n",
        "수강생 여러분~! Chapter05 ~ 08 수업은 잘 들으셨나요?\n",
        "\n",
        "Chapter05 ~ 08의 수업 내용을 바탕으로 아래 문제를 풀어주시면 됩니다.\n",
        "\n",
        "<br>\n",
        "\n",
        "\n",
        "[**답변 입력 방법**]\n",
        "\n",
        "문제 아래에 있는 코드 입력창에 정답코드를 작성하신 후  __▷ 버튼을 클릭해 코드를 실행__ 해보세요<br>"
      ]
    },
    {
      "cell_type": "markdown",
      "metadata": {
        "id": "qoyC9wF-3hvs"
      },
      "source": [
        "-----"
      ]
    },
    {
      "cell_type": "markdown",
      "metadata": {
        "id": "TaQviGrHz9M7"
      },
      "source": [
        "## 모험가들의 레벨업 도전\n",
        "\n",
        "### [배경 이야기]\n",
        "\n",
        "당신은 마법사, 전사, 도적, 힐러 네 명의 모험가를 이끄는 리더입니다.\n",
        "\n",
        "각 캐릭터는 힘, 민첩, 지능, 체력이라는 능력치를 가지고 있습니다. 이 능력치들을 이용해 다양한 도전을 해결하고 사냥을 통해 경험치를 얻어 레벨업을 해야 합니다.\n",
        "\n",
        "<br>\n",
        "\n",
        "### [동료 캐릭터와 능력치 정보]\n",
        "\n",
        "마법사: 힘(10), 민첩(20), 지능(80), 체력(50)\n",
        "\n",
        "전사: 힘(80), 민첩(30), 지능(20), 체력(100)\n",
        "\n",
        "도적: 힘(40), 민첩(80), 지능(30), 체력(60)\n",
        "\n",
        "힐러: 힘(20), 민첩(40), 지능(70), 체력(70)\n",
        "\n",
        "<br>\n",
        "\n",
        "* 변수명을 영어로 변경해서 풀어보세요 !"
      ]
    },
    {
      "cell_type": "markdown",
      "metadata": {
        "id": "PLoacgR_z9M-"
      },
      "source": [
        "<br>\n",
        "\n",
        "__[문제 1: 첫 번째 사냥]__\n",
        "\n",
        "마법사는 몬스터를 사냥하기 위해 마법을 사용합니다.\n",
        "\n",
        "마법을 사용하려면 지능이 50 이상이어야 합니다.\n",
        "\n",
        "마법사의 지능이 50 이상인지 확인하세요."
      ]
    },
    {
      "cell_type": "code",
      "execution_count": null,
      "metadata": {
        "colab": {
          "base_uri": "https://localhost:8080/"
        },
        "id": "B1cvWbmiz9M_",
        "outputId": "04d655bc-c492-4a84-8b25-10abaa3adc30"
      },
      "outputs": [
        {
          "output_type": "stream",
          "name": "stdout",
          "text": [
            "True\n"
          ]
        }
      ],
      "source": [
        "# 마법사 wizard\n",
        "# 전사 warrior\n",
        "# 도적 assassin\n",
        "# 힐러 healer\n",
        "\n",
        "wizard = {\n",
        "    \"strength\": 10, # 힘\n",
        "    \"agility\": 20, # 민첩\n",
        "    \"intelligence\": 80, # 지능\n",
        "    \"vitality\": 50 # 체력\n",
        "}\n",
        "\n",
        "able_magic = wizard[\"intelligence\"] >= 50\n",
        "print(able_magic)"
      ]
    },
    {
      "cell_type": "markdown",
      "metadata": {
        "id": "6QqL8f64z9NA"
      },
      "source": [
        "<br>\n",
        "\n",
        "__[문제 2: 두 번째 사냥]__\n",
        "\n",
        "전사는 강력한 공격을 하기 위해 자신의 힘을 사용합니다.\n",
        "\n",
        "전사의 힘이 60 이상이고 체력이 80 이상인지 확인하세요."
      ]
    },
    {
      "cell_type": "code",
      "execution_count": null,
      "metadata": {
        "colab": {
          "base_uri": "https://localhost:8080/"
        },
        "id": "OFdg7hU2z9NC",
        "outputId": "44f8c816-be0b-42f9-ec22-004c9ab39be8"
      },
      "outputs": [
        {
          "output_type": "stream",
          "name": "stdout",
          "text": [
            "True\n"
          ]
        }
      ],
      "source": [
        "warrior = {\n",
        "    \"strength\": 80,\n",
        "    \"agility\": 30,\n",
        "    \"intelligence\": 20,\n",
        "    \"vitality\": 100\n",
        "}\n",
        "\n",
        "able_attack = warrior[\"strength\"] >= 60 and warrior[\"vitality\"] >= 80\n",
        "print(able_attack)"
      ]
    },
    {
      "cell_type": "markdown",
      "metadata": {
        "id": "S2p_yAqCz9NE"
      },
      "source": [
        "<br>\n",
        "\n",
        "__[문제 3: 세 번째 사냥]__\n",
        "\n",
        "도적은 민첩함을 이용해 몬스터를 회피하고 공격합니다.\n",
        "\n",
        "도적의 민첩이 70 이상이거나 힘이 50 이상인지 확인하세요."
      ]
    },
    {
      "cell_type": "code",
      "execution_count": null,
      "metadata": {
        "colab": {
          "base_uri": "https://localhost:8080/"
        },
        "id": "SQtjM4Y6z9NG",
        "outputId": "5f74448d-e043-47fa-a61b-293dfdd3c98b"
      },
      "outputs": [
        {
          "output_type": "stream",
          "name": "stdout",
          "text": [
            "True\n"
          ]
        }
      ],
      "source": [
        "assassin = {\n",
        "    \"strength\": 40,\n",
        "    \"agility\": 80,\n",
        "    \"intelligence\": 30,\n",
        "    \"vitality\": 60\n",
        "}\n",
        "\n",
        "able_agility = assassin[\"agility\"] >= 70 or assassin[\"strength\"] >= 50\n",
        "print(able_agility)"
      ]
    },
    {
      "cell_type": "markdown",
      "metadata": {
        "id": "Oa8F__b1z9NH"
      },
      "source": [
        "<br>\n",
        "\n",
        "__[문제 4: 네 번째 사냥]__\n",
        "\n",
        "힐러는 파티의 체력을 회복시키기 위해 마법을 사용합니다.\n",
        "\n",
        "힐러의 지능이 60 이상이고, 체력이 50 이상인지 확인하세요."
      ]
    },
    {
      "cell_type": "code",
      "execution_count": null,
      "metadata": {
        "colab": {
          "base_uri": "https://localhost:8080/"
        },
        "id": "rXzeIwGsz9NI",
        "outputId": "319063ec-39c9-46c6-ef0c-c745e53856a1"
      },
      "outputs": [
        {
          "output_type": "stream",
          "name": "stdout",
          "text": [
            "True\n"
          ]
        }
      ],
      "source": [
        "healer = {\n",
        "    \"strength\": 20,\n",
        "    \"agility\": 40,\n",
        "    \"intelligence\": 70,\n",
        "    \"vitality\": 70\n",
        "}\n",
        "\n",
        "able_magic = healer[\"intelligence\"] >= 60 and healer[\"vitality\"] >= 50\n",
        "print(able_magic)"
      ]
    },
    {
      "cell_type": "markdown",
      "metadata": {
        "id": "TsyRjsqjz9NL"
      },
      "source": [
        "<br>\n",
        "\n",
        "__[문제 5: 레벨업]__\n",
        "\n",
        "모든 캐릭터가 사냥을 성공적으로 마쳤습니다. 이제 경험치를 얻어 레벨업을 해야 합니다.\n",
        "\n",
        "\n",
        "각 캐릭터의 경험치가 100 이상인지 print()를 이용해 확인해주세요.\n",
        "\n",
        "<br>\n",
        "\n",
        "경험치는 아래와 같습니다.\n",
        "\n",
        "마법사: 120\n",
        "\n",
        "전사: 150\n",
        "\n",
        "도적: 110\n",
        "\n",
        "힐러: 90\n",
        "\n"
      ]
    },
    {
      "cell_type": "code",
      "execution_count": null,
      "metadata": {
        "colab": {
          "base_uri": "https://localhost:8080/"
        },
        "id": "nNfrrnNnz9NN",
        "outputId": "55018cbd-3b2f-4154-b93e-3340c947cdc8"
      },
      "outputs": [
        {
          "output_type": "stream",
          "name": "stdout",
          "text": [
            "True\n",
            "True\n",
            "True\n",
            "False\n"
          ]
        }
      ],
      "source": [
        "# 마법사 wizard\n",
        "# 전사 warrior\n",
        "# 도적 assassin\n",
        "# 힐러 healer\n",
        "\n",
        "wizard[\"experience\"] = 120\n",
        "warrior[\"experience\"] = 150\n",
        "assassin[\"experience\"] = 110\n",
        "healer[\"experience\"] = 90\n",
        "\n",
        "for character in [wizard, warrior, assassin, healer]:\n",
        "    print(character[\"experience\"] >= 100)"
      ]
    }
  ],
  "metadata": {
    "colab": {
      "provenance": [],
      "include_colab_link": true
    },
    "kernelspec": {
      "display_name": "Python 3",
      "name": "python3"
    },
    "language_info": {
      "name": "python"
    }
  },
  "nbformat": 4,
  "nbformat_minor": 0
}