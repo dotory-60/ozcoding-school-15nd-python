{
  "nbformat": 4,
  "nbformat_minor": 0,
  "metadata": {
    "colab": {
      "provenance": [],
      "authorship_tag": "ABX9TyOlYwK5x/5yZeyBdDRpSn1g",
      "include_colab_link": true
    },
    "kernelspec": {
      "name": "python3",
      "display_name": "Python 3"
    },
    "language_info": {
      "name": "python"
    }
  },
  "cells": [
    {
      "cell_type": "markdown",
      "metadata": {
        "id": "view-in-github",
        "colab_type": "text"
      },
      "source": [
        "<a href=\"https://colab.research.google.com/github/dotory-60/ozcoding-school-15nd-python/blob/main/chapter7_%EC%9E%90%EB%A3%8C%ED%98%95(str%2C_bool).ipynb\" target=\"_parent\"><img src=\"https://colab.research.google.com/assets/colab-badge.svg\" alt=\"Open In Colab\"/></a>"
      ]
    },
    {
      "cell_type": "code",
      "execution_count": null,
      "metadata": {
        "id": "xsdTb2PNaXcQ"
      },
      "outputs": [],
      "source": [
        "# @title chapter6 복습\n",
        "\n",
        "# int\n",
        "# float\n",
        "# str\n",
        "# bool\n",
        "\n",
        "# list\n",
        "# tuple\n",
        "# dict\n",
        "# set"
      ]
    },
    {
      "cell_type": "code",
      "source": [
        "이름 = \"김지원\"\n",
        "나이 = 10000\n",
        "키 = 171.5\n",
        "소속 = '부모님 집'"
      ],
      "metadata": {
        "id": "7h0y__XVauTt"
      },
      "execution_count": null,
      "outputs": []
    },
    {
      "cell_type": "code",
      "source": [
        "print(type(이름))\n",
        "print(type(나이))\n",
        "print(type(키))\n",
        "print(type(소속))"
      ],
      "metadata": {
        "colab": {
          "base_uri": "https://localhost:8080/"
        },
        "id": "Aqxxc9_ha_EG",
        "outputId": "940b7f0d-5e57-4e60-a425-bda7512bbaa4"
      },
      "execution_count": null,
      "outputs": [
        {
          "output_type": "stream",
          "name": "stdout",
          "text": [
            "<class 'str'>\n",
            "<class 'int'>\n",
            "<class 'float'>\n",
            "<class 'str'>\n"
          ]
        }
      ]
    },
    {
      "cell_type": "code",
      "source": [
        "print(float(5))\n",
        "print(int(5.0))\n",
        "print(\"5\", \"5.0\")\n",
        "print(type(\"5\"), type(\"5.0\"))"
      ],
      "metadata": {
        "colab": {
          "base_uri": "https://localhost:8080/"
        },
        "id": "Uz6RVqN1bG-K",
        "outputId": "6a56cd6b-7193-4882-f45c-6a7170c6ce44"
      },
      "execution_count": null,
      "outputs": [
        {
          "output_type": "stream",
          "name": "stdout",
          "text": [
            "5.0\n",
            "5\n",
            "5 5.0\n",
            "<class 'str'> <class 'str'>\n"
          ]
        }
      ]
    },
    {
      "cell_type": "code",
      "source": [
        "# str : 문자열\n",
        "# 특징 : 시퀀스 자료형\n",
        "# 시퀀스? 요소들이 연속적으로 이어진 자료형\n",
        "# 값 하나하나를 요소라고 합니다.\n",
        "\n",
        "소속 = 's매직 서울북부'\n",
        "\n",
        "# 인덱스(index) : 0부터 시작\n",
        "\n",
        "print(소속)\n",
        "print(소속[0])\n",
        "print(소속[1])\n",
        "print(소속[2])\n",
        "print(소속[3])\n",
        "print(소속[4])\n",
        "print(소속[5])\n",
        "print(소속[6])\n",
        "print(소속[7])"
      ],
      "metadata": {
        "colab": {
          "base_uri": "https://localhost:8080/"
        },
        "id": "7q7-A1lOdE_G",
        "outputId": "232896af-373e-4899-886f-84717f880ff2"
      },
      "execution_count": null,
      "outputs": [
        {
          "output_type": "stream",
          "name": "stdout",
          "text": [
            "s매직 서울북부\n",
            "s\n",
            "매\n",
            "직\n",
            " \n",
            "서\n",
            "울\n",
            "북\n",
            "부\n"
          ]
        }
      ]
    },
    {
      "cell_type": "code",
      "source": [
        "\"매\" in 소속\n",
        "\"3\" in 소속"
      ],
      "metadata": {
        "colab": {
          "base_uri": "https://localhost:8080/"
        },
        "id": "e7Ry_ibrdNbs",
        "outputId": "83af63a5-827a-422d-b8ba-3766fcc133d8"
      },
      "execution_count": null,
      "outputs": [
        {
          "output_type": "execute_result",
          "data": {
            "text/plain": [
              "False"
            ]
          },
          "metadata": {},
          "execution_count": 12
        }
      ]
    },
    {
      "cell_type": "code",
      "source": [
        "# python에서 시퀀스(sequence)\n",
        "# 여러 개의 값을 순서대로 나열한 자료형\n",
        "\n",
        "# 대표적인 시퀀스 타입\n",
        "# 문자열 str\n",
        "# 리스트 [1, 2, 3]\n",
        "# 튜플 (10, 20, 30)\n",
        "# range range(5)\n",
        "\n",
        "# 공통 특징\n",
        "# 인덱싱 가능 seq[0]\n",
        "# 슬라이싱 가능 seq[1:3]\n",
        "# 반복 간으 for x in seq:\n",
        "\n",
        "# Python Slicing\n",
        "#[start : stop : step]\n",
        "# start : 시작 인덱스\n",
        "# stop : 끝 인덱스\n",
        "# step : 몇 칸씩 건너뛸지"
      ],
      "metadata": {
        "id": "wQnVu4SfhfVD"
      },
      "execution_count": null,
      "outputs": []
    },
    {
      "cell_type": "code",
      "source": [
        "# 문자열 즉 시퀀스끼리 합치기\n",
        "\"13\" + \"금요일\""
      ],
      "metadata": {
        "colab": {
          "base_uri": "https://localhost:8080/",
          "height": 36
        },
        "id": "Ty1Hc9w_d_Tn",
        "outputId": "a7435de4-4098-4f9f-b333-bdefdc81c6c3"
      },
      "execution_count": null,
      "outputs": [
        {
          "output_type": "execute_result",
          "data": {
            "text/plain": [
              "'13금요일'"
            ],
            "application/vnd.google.colaboratory.intrinsic+json": {
              "type": "string"
            }
          },
          "metadata": {},
          "execution_count": 15
        }
      ]
    },
    {
      "cell_type": "code",
      "source": [
        "# 복사 가능\n",
        "\n",
        "옛날게임 = '바니바니 당근당근' * 20\n",
        "print(옛날게임)\n",
        "\n",
        "len(옛날게임)"
      ],
      "metadata": {
        "colab": {
          "base_uri": "https://localhost:8080/"
        },
        "id": "ZB1xoRQGePAg",
        "outputId": "c684916c-d44e-4743-f70d-7c61f8b6fb64"
      },
      "execution_count": null,
      "outputs": [
        {
          "output_type": "stream",
          "name": "stdout",
          "text": [
            "바니바니 당근당근바니바니 당근당근바니바니 당근당근바니바니 당근당근바니바니 당근당근바니바니 당근당근바니바니 당근당근바니바니 당근당근바니바니 당근당근바니바니 당근당근바니바니 당근당근바니바니 당근당근바니바니 당근당근바니바니 당근당근바니바니 당근당근바니바니 당근당근바니바니 당근당근바니바니 당근당근바니바니 당근당근바니바니 당근당근\n"
          ]
        },
        {
          "output_type": "execute_result",
          "data": {
            "text/plain": [
              "180"
            ]
          },
          "metadata": {},
          "execution_count": 20
        }
      ]
    },
    {
      "cell_type": "code",
      "source": [
        "퀴즈 = \"차 4대가 고장나면? 카포에라\"\n",
        "print(퀴즈[12:16])\n",
        "print(퀴즈[12:15])\n",
        "print(퀴즈[15])\n",
        "print(퀴즈[-1])"
      ],
      "metadata": {
        "colab": {
          "base_uri": "https://localhost:8080/"
        },
        "id": "XGeaP-PZekUA",
        "outputId": "19f21d0f-e07a-49c0-99c4-6706eb66165b"
      },
      "execution_count": null,
      "outputs": [
        {
          "output_type": "stream",
          "name": "stdout",
          "text": [
            "카포에라\n",
            "카포에\n",
            "라\n",
            "라\n"
          ]
        }
      ]
    },
    {
      "cell_type": "code",
      "source": [
        "생년월일 = \"2000. 12. 25\"\n",
        "\n",
        "print(생년월일[0:4], 생년월일[6:8], 생년월일[10:12])\n",
        "\n",
        "# 강사님 코드\n",
        "생년월일 = \"2000. 12. 25\"\n",
        "년 = 생년월일[0:4]\n",
        "월 = 생년월일[6:8]\n",
        "일 = 생년월일[10:12]\n",
        "\n",
        "print(년, 월, 일)"
      ],
      "metadata": {
        "colab": {
          "base_uri": "https://localhost:8080/"
        },
        "id": "CkjnCJqUfWCt",
        "outputId": "3e210331-da1d-4378-e324-837899b6ad3a"
      },
      "execution_count": null,
      "outputs": [
        {
          "output_type": "stream",
          "name": "stdout",
          "text": [
            "1000 12 15\n",
            "2000 12 25\n"
          ]
        }
      ]
    },
    {
      "cell_type": "code",
      "source": [
        "숫자 = '1234345566556576789'\n",
        "\n",
        "# 전체 출력\n",
        "print(숫자[::])\n",
        "\n",
        "# 로꾸거\n",
        "print(숫자[::-1])\n",
        "\n",
        "# 첫번째 인덱스 기준으로 2칸씩 띄어쓰기 출력하기\n",
        "print(숫자[::2])\n",
        "\n",
        "# 첫번째 인덱스 기준으로 2칸씩 띄어쓰기 출력하기\n",
        "print(숫자[4:1:-1])\n",
        "print(숫자[4::])"
      ],
      "metadata": {
        "colab": {
          "base_uri": "https://localhost:8080/"
        },
        "id": "NWaRKS4sgPpr",
        "outputId": "575959c9-4a36-4187-cbf5-97a5758a0ef1"
      },
      "execution_count": null,
      "outputs": [
        {
          "output_type": "stream",
          "name": "stdout",
          "text": [
            "1234345566556576789\n",
            "9876756556655434321\n",
            "1335656779\n",
            "343\n",
            "345566556576789\n"
          ]
        }
      ]
    },
    {
      "cell_type": "code",
      "source": [
        "퀴즈 = '스님이 공중에 뜬다를 4글자로 말하면? 어중이떠중이'\n",
        "\n",
        "print(퀴즈[22:28])"
      ],
      "metadata": {
        "colab": {
          "base_uri": "https://localhost:8080/"
        },
        "id": "604Xwjpng_Ko",
        "outputId": "eed89bfc-2b40-43f5-c1d3-e085fbe32677"
      },
      "execution_count": null,
      "outputs": [
        {
          "output_type": "stream",
          "name": "stdout",
          "text": [
            "어중이떠중이\n"
          ]
        }
      ]
    },
    {
      "cell_type": "code",
      "source": [
        "과일 = 'apple'\n",
        "과일.count('p')"
      ],
      "metadata": {
        "colab": {
          "base_uri": "https://localhost:8080/"
        },
        "id": "Me4rMxjjiU1o",
        "outputId": "5e22d00a-5e22-47e7-912d-a5a1ee576062"
      },
      "execution_count": null,
      "outputs": [
        {
          "output_type": "execute_result",
          "data": {
            "text/plain": [
              "2"
            ]
          },
          "metadata": {},
          "execution_count": 51
        }
      ]
    },
    {
      "cell_type": "code",
      "source": [
        "print(과일[2])\n",
        "print(과일.index(\"p\"))"
      ],
      "metadata": {
        "colab": {
          "base_uri": "https://localhost:8080/"
        },
        "id": "xiz8Iyd1ihN7",
        "outputId": "733cf94f-3a66-45bf-cb76-a531c4b36e6c"
      },
      "execution_count": null,
      "outputs": [
        {
          "output_type": "stream",
          "name": "stdout",
          "text": [
            "p\n",
            "1\n"
          ]
        }
      ]
    },
    {
      "cell_type": "code",
      "source": [
        "라라랜드 = \"사람들은 다른 사람들의 열정에 끌리게 되어있어 자신이 잊은 걸 상기시켜 주니까\"\n",
        "\n",
        "# 배운 내용 기반해서 직접 문제를 내본다면 다른 사람과 본인에게 도움이 됨"
      ],
      "metadata": {
        "id": "MVXVReiPitHP"
      },
      "execution_count": null,
      "outputs": []
    }
  ]
}