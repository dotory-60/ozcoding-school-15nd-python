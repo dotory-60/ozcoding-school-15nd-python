{
  "nbformat": 4,
  "nbformat_minor": 0,
  "metadata": {
    "colab": {
      "provenance": [],
      "authorship_tag": "ABX9TyMWX+GufgEHDgh/ABCIIEvx",
      "include_colab_link": true
    },
    "kernelspec": {
      "name": "python3",
      "display_name": "Python 3"
    },
    "language_info": {
      "name": "python"
    }
  },
  "cells": [
    {
      "cell_type": "markdown",
      "metadata": {
        "id": "view-in-github",
        "colab_type": "text"
      },
      "source": [
        "<a href=\"https://colab.research.google.com/github/dotory-60/ozcoding-school-15nd-python/blob/main/chapter8_%EB%B9%84%EA%B5%90_%EC%97%B0%EC%82%B0%EC%9E%90%EC%99%80_%EB%85%BC%EB%A6%AC_%EC%97%B0%EC%82%B0%EC%9E%90.ipynb\" target=\"_parent\"><img src=\"https://colab.research.google.com/assets/colab-badge.svg\" alt=\"Open In Colab\"/></a>"
      ]
    },
    {
      "cell_type": "code",
      "execution_count": null,
      "metadata": {
        "colab": {
          "base_uri": "https://localhost:8080/"
        },
        "id": "qMsYMuOPjMvD",
        "outputId": "7018f489-beb6-4ee1-f894-3413066db887"
      },
      "outputs": [
        {
          "output_type": "execute_result",
          "data": {
            "text/plain": [
              "False"
            ]
          },
          "metadata": {},
          "execution_count": 31
        }
      ],
      "source": [
        "# bool의 쇼타임\n",
        "# 주의할점 True x true False x false\n",
        "# 부등호\n",
        "3 > 1\n",
        "3 == 1\n",
        "3 == 3\n",
        "\n",
        "20 != 5\n",
        "20 != 20"
      ]
    },
    {
      "cell_type": "code",
      "source": [
        "# 문자열 비교\n",
        "'python' == 'Python'\n",
        "'python' == 'python'\n",
        "'python' != 'python'\n",
        "'python' != 'python1'"
      ],
      "metadata": {
        "colab": {
          "base_uri": "https://localhost:8080/"
        },
        "id": "mpcEfNdFoIqM",
        "outputId": "6e47ed1e-ea05-4b12-d319-ba574cd3a423"
      },
      "execution_count": null,
      "outputs": [
        {
          "output_type": "execute_result",
          "data": {
            "text/plain": [
              "True"
            ]
          },
          "metadata": {},
          "execution_count": 11
        }
      ]
    },
    {
      "cell_type": "code",
      "source": [
        "5 >= 5\n",
        "5 < 4"
      ],
      "metadata": {
        "colab": {
          "base_uri": "https://localhost:8080/"
        },
        "id": "lRnlzAM2ofNR",
        "outputId": "e4202dc1-fafe-4b9c-f784-84658592230a"
      },
      "execution_count": null,
      "outputs": [
        {
          "output_type": "execute_result",
          "data": {
            "text/plain": [
              "False"
            ]
          },
          "metadata": {},
          "execution_count": 14
        }
      ]
    },
    {
      "cell_type": "code",
      "source": [
        "# 중요\n",
        "# ==, is\n",
        "# is는 객체의 타입과 값을 비교\n",
        "# ==는 단지 값만 비교\n",
        "\n",
        "3 is 3\n",
        "3 == 3\n",
        "\n",
        "3.0 is 3\n",
        "3.0 == 3\n",
        "\n",
        "print(id(3.0))\n",
        "print(id(3))"
      ],
      "metadata": {
        "colab": {
          "base_uri": "https://localhost:8080/"
        },
        "id": "bmpKthsUokD1",
        "outputId": "5f2adb3e-64a4-4b1a-ec73-949661d38ecd"
      },
      "execution_count": null,
      "outputs": [
        {
          "output_type": "stream",
          "name": "stdout",
          "text": [
            "140051239472336\n",
            "11642152\n"
          ]
        },
        {
          "output_type": "stream",
          "name": "stderr",
          "text": [
            "<>:6: SyntaxWarning: \"is\" with 'int' literal. Did you mean \"==\"?\n",
            "<>:9: SyntaxWarning: \"is\" with 'float' literal. Did you mean \"==\"?\n",
            "<>:6: SyntaxWarning: \"is\" with 'int' literal. Did you mean \"==\"?\n",
            "<>:9: SyntaxWarning: \"is\" with 'float' literal. Did you mean \"==\"?\n",
            "/tmp/ipython-input-4182597770.py:6: SyntaxWarning: \"is\" with 'int' literal. Did you mean \"==\"?\n",
            "  3 is 3\n",
            "/tmp/ipython-input-4182597770.py:9: SyntaxWarning: \"is\" with 'float' literal. Did you mean \"==\"?\n",
            "  3.0 is 3\n"
          ]
        }
      ]
    },
    {
      "cell_type": "code",
      "source": [
        "# 미션 : 값 비교에는 is를 쓰면 안 되는데 그 이유를 찾아서 기술 블로그에 작성해보세요.\n",
        "# 기술 블로그는 자랑 블로그가 아니다. 오히려 나의 치부를 들어내는 곳이다.\n",
        "# 실수하고 망치고 남보다 못한 것을 자랑하는 곳이다.\n",
        "# 면접관들은 성장하는 모습을 보며 가능성을 체크한다."
      ],
      "metadata": {
        "id": "kK3CNvlMpBhw"
      },
      "execution_count": null,
      "outputs": []
    },
    {
      "cell_type": "code",
      "source": [
        "# 본격적인 논리연산자\n",
        "# True : 1 / False : 0\n",
        "\n",
        "# and : 2개 모두 True면 True 아닌 경우 모두 False\n",
        "\n",
        "True and True # 1 * 1 = 1\n",
        "True and False # 1 * 0 = 0\n",
        "False and True # 0 * 1 = 0\n",
        "False and False # 0 * 0 = 0\n",
        "\n",
        "# or : 1개라도 True면 True 2개 모두 False는 False\n",
        "True or True # 1 + 1 = 1\n",
        "True or False # 1 + 0 = 1\n",
        "False or True # 0 + 1 = 1\n",
        "False or False # 0 + 0 = 0\n",
        "\n",
        "# not : 반대\n",
        "not True\n",
        "not False"
      ],
      "metadata": {
        "colab": {
          "base_uri": "https://localhost:8080/"
        },
        "id": "Ep30EhTmukQ0",
        "outputId": "1baf25d2-c5d6-44bb-a09b-7f5aa16cba18"
      },
      "execution_count": null,
      "outputs": [
        {
          "output_type": "execute_result",
          "data": {
            "text/plain": [
              "True"
            ]
          },
          "metadata": {},
          "execution_count": 32
        }
      ]
    },
    {
      "cell_type": "code",
      "source": [
        "# 점점 복잡해지는 조건들!!\n",
        "\n",
        "10 == 12 or 6 != 2 # true\n",
        "2 > 5 and 7 == 7 # fasle\n",
        "not 14 <= 15 # false\n",
        "not 7 is 7.0 # true"
      ],
      "metadata": {
        "colab": {
          "base_uri": "https://localhost:8080/"
        },
        "id": "frv77WEvwtFI",
        "outputId": "42467104-0876-40a3-eac8-4700c060c559"
      },
      "execution_count": null,
      "outputs": [
        {
          "output_type": "stream",
          "name": "stderr",
          "text": [
            "<>:6: SyntaxWarning: \"is not\" with 'int' literal. Did you mean \"!=\"?\n",
            "<>:6: SyntaxWarning: \"is not\" with 'int' literal. Did you mean \"!=\"?\n",
            "/tmp/ipython-input-1222801193.py:6: SyntaxWarning: \"is not\" with 'int' literal. Did you mean \"!=\"?\n",
            "  not 7 is 7.0 # true\n"
          ]
        },
        {
          "output_type": "execute_result",
          "data": {
            "text/plain": [
              "True"
            ]
          },
          "metadata": {},
          "execution_count": 39
        }
      ]
    },
    {
      "cell_type": "code",
      "source": [
        "# 문자열?? 너 뭐야 True 트루야?\n",
        "\n",
        "bool(\"힘들어요 여러분\")"
      ],
      "metadata": {
        "colab": {
          "base_uri": "https://localhost:8080/"
        },
        "id": "l-uG-JuNxSG9",
        "outputId": "7fb10f65-068a-454e-820a-9c895c5310b4"
      },
      "execution_count": null,
      "outputs": [
        {
          "output_type": "execute_result",
          "data": {
            "text/plain": [
              "True"
            ]
          },
          "metadata": {},
          "execution_count": 42
        }
      ]
    },
    {
      "cell_type": "code",
      "source": [
        "# 굉장히 중요한 내용\n",
        "# 단락 평가\n",
        "\n",
        "print(False and True)\n",
        "print(False and \"힘들어요\") # 단락평가 : False와 and까지만 보고 결과 출력, False에서 이미 값이 정해졌기 때문\n",
        "print(True and False) # 얘는 끝까지 봄\n",
        "\n",
        "print(True and \"힘들어요\") # 뒤에 조건을 결과로 반환(?)한다.\n",
        "\n",
        "# 시스템이 복잡해지고 커질 수록 단락평가가 매우 중요해진다.\n",
        "# and 논리 연산자를 사용할 경우 False가 나올 수식을 앞에 두면 뒤에 더 복잡한 수식이 있을 때 리소스를 낭비하지 않을 것 같다.\n",
        "# 논리 연산자를 사용해서 지금까지 배운 내용을 잘 조합해서 자랑해라. 별거 아니어도 괜찮다. 점점 사고가 확장된다."
      ],
      "metadata": {
        "colab": {
          "base_uri": "https://localhost:8080/"
        },
        "id": "s0A9kLk_xgc9",
        "outputId": "21cc3218-6f00-4307-ea3b-908897290c69"
      },
      "execution_count": null,
      "outputs": [
        {
          "output_type": "stream",
          "name": "stdout",
          "text": [
            "False\n",
            "False\n",
            "False\n",
            "힘들어요\n"
          ]
        }
      ]
    }
  ]
}